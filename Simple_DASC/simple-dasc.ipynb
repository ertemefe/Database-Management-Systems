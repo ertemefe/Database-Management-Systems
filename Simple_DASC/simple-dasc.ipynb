{
 "cells": [
  {
   "attachments": {},
   "cell_type": "markdown",
   "metadata": {
    "pycharm": {
     "name": "#%% md\n"
    }
   },
   "source": [
    "# Homework 4"
   ]
  },
  {
   "attachments": {},
   "cell_type": "markdown",
   "metadata": {
    "pycharm": {
     "name": "#%% md\n"
    }
   },
   "source": [
    "## Mysql-Python Connection"
   ]
  },
  {
   "cell_type": "code",
   "execution_count": 6,
   "metadata": {
    "pycharm": {
     "name": "#%%\n"
    }
   },
   "outputs": [],
   "source": [
    "import mysql.connector\n",
    "import pandas as pd\n",
    "\n",
    "import matplotlib.pyplot as plt\n",
    "import seaborn as sns\n",
    "import csv\n",
    "\n",
    "%matplotlib inline"
   ]
  },
  {
   "cell_type": "code",
   "execution_count": 7,
   "metadata": {
    "pycharm": {
     "name": "#%%\n"
    }
   },
   "outputs": [
    {
     "name": "stdout",
     "output_type": "stream",
     "text": [
      "<mysql.connector.connection_cext.CMySQLConnection object at 0x12a5f36d0>\n"
     ]
    }
   ],
   "source": [
    "db_connection = mysql.connector.connect(\n",
    "  host=\"localhost\",\n",
    "  user=\"root\",\n",
    "  passwd=\"**.\", # change password\n",
    "  auth_plugin='mysql_native_password'\n",
    ")\n",
    "print(db_connection)"
   ]
  },
  {
   "cell_type": "code",
   "execution_count": 8,
   "metadata": {
    "pycharm": {
     "name": "#%%\n"
    }
   },
   "outputs": [
    {
     "name": "stdout",
     "output_type": "stream",
     "text": [
      "('comp306',)\n",
      "('information_schema',)\n",
      "('mysql',)\n",
      "('performance_schema',)\n",
      "('ps_ecommerce',)\n",
      "('sys',)\n",
      "('world',)\n"
     ]
    }
   ],
   "source": [
    "# creating database_cursor to perform SQL operation to run queries\n",
    "db_cursor = db_connection.cursor(buffered=True)\n",
    "\n",
    "# executing cursor with execute method and pass SQL query\n",
    "db_cursor.execute(\"CREATE DATABASE ps_ecommerce\")\n",
    "\n",
    "# get list of all databases\n",
    "db_cursor.execute(\"SHOW DATABASES\")\n",
    "\n",
    "# print all databases\n",
    "for db in db_cursor:\n",
    "    print(db)\n",
    "    \n",
    "db_cursor.execute(\"USE ps_ecommerce\")"
   ]
  },
  {
   "attachments": {},
   "cell_type": "markdown",
   "metadata": {
    "pycharm": {
     "name": "#%% md\n"
    }
   },
   "source": [
    "## Load Data to Mysql Tables"
   ]
  },
  {
   "cell_type": "code",
   "execution_count": 9,
   "metadata": {
    "pycharm": {
     "name": "#%%\n"
    }
   },
   "outputs": [],
   "source": [
    "def populate_table(db_connection, db_cursor, insert_query, file_path):\n",
    "    \n",
    "    with open(file_path, mode='r') as csv_data:\n",
    "        reader = csv.reader(csv_data, delimiter=';')\n",
    "        csv_data_list = list(reader)\n",
    "        for row in csv_data_list[1:]:\n",
    "            row = tuple(map(lambda x: None if x == \"\" else x, row[0].split(',')))\n",
    "            db_cursor.execute(insert_query, row)\n",
    "        \n",
    "    db_connection.commit()"
   ]
  },
  {
   "cell_type": "code",
   "execution_count": 10,
   "metadata": {
    "pycharm": {
     "name": "#%%\n"
    }
   },
   "outputs": [],
   "source": [
    "# create CUSTOMERS table\n",
    "db_cursor.execute(\"\"\"CREATE TABLE CUSTOMERS (customer_id VARCHAR(50) NOT NULL, \n",
    "                                          customer_unique_id VARCHAR(50) NOT NULL, \n",
    "                                          customer_zip_code_prefix VARCHAR(50), \n",
    "                                          customer_city VARCHAR(50), \n",
    "                                          customer_state VARCHAR(50))\"\"\")\n",
    "\n",
    "insert_customers = (\n",
    "    \"INSERT INTO CUSTOMERS(customer_id, customer_unique_id, customer_zip_code_prefix, customer_city, customer_state) \"\n",
    "    \"VALUES (%s, %s, %s, %s, %s)\"\n",
    ")\n",
    "\n",
    "populate_table(db_connection, db_cursor, insert_customers, \"/Users/efe/Downloads/data/customers.csv\")"
   ]
  },
  {
   "cell_type": "code",
   "execution_count": 11,
   "metadata": {
    "pycharm": {
     "name": "#%%\n"
    }
   },
   "outputs": [],
   "source": [
    "# create ORDER_PAYMENTS table\n",
    "db_cursor.execute(\"\"\"CREATE TABLE ORDER_PAYMENTS (order_id VARCHAR(50) NOT NULL, \n",
    "                                          payment_sequential INTEGER, \n",
    "                                          payment_type VARCHAR(50), \n",
    "                                          payment_installments INTEGER, \n",
    "                                          payment_value FLOAT)\"\"\")\n",
    "\n",
    "insert_orderpayments = (\n",
    "    \"INSERT INTO ORDER_PAYMENTS(order_id, payment_sequential, payment_type, payment_installments, payment_value) \"\n",
    "    \"VALUES (%s, %s, %s, %s, %s)\"\n",
    ")\n",
    "\n",
    "populate_table(db_connection, db_cursor, insert_orderpayments, \"/Users/efe/Downloads/data/order_payments.csv\")"
   ]
  },
  {
   "cell_type": "code",
   "execution_count": 12,
   "metadata": {
    "pycharm": {
     "name": "#%%\n"
    }
   },
   "outputs": [],
   "source": [
    "# create ORDER_ITEMS table\n",
    "db_cursor.execute(\"\"\"CREATE TABLE ORDER_ITEMS (order_id VARCHAR(50) NOT NULL, \n",
    "                                          order_item_id INTEGER, \n",
    "                                          product_id VARCHAR(50), \n",
    "                                          seller_id VARCHAR(50), \n",
    "                                          shipping_limit_date DATETIME,\n",
    "                                          price FLOAT,\n",
    "                                          freight_value FLOAT)\"\"\")\n",
    "\n",
    "insert_orderitems = (\n",
    "    \"INSERT INTO ORDER_ITEMS(order_id, order_item_id, product_id, seller_id, shipping_limit_date, price, freight_value) \"\n",
    "    \"VALUES (%s, %s, %s, %s, %s, %s, %s)\"\n",
    ")\n",
    "\n",
    "populate_table(db_connection, db_cursor, insert_orderitems, \"/Users/efe/Downloads/data/order_items.csv\")"
   ]
  },
  {
   "cell_type": "code",
   "execution_count": 13,
   "metadata": {
    "pycharm": {
     "name": "#%%\n"
    }
   },
   "outputs": [],
   "source": [
    "# create ORDERS table\n",
    "db_cursor.execute(\"\"\"CREATE TABLE ORDERS (order_id VARCHAR(50) NOT NULL, \n",
    "                                          customer_id VARCHAR(50) NOT NULL, \n",
    "                                          order_status VARCHAR(50), \n",
    "                                          order_purchase_timestamp DATETIME, \n",
    "                                          order_approved_at DATETIME,\n",
    "                                          order_delivered_carrier_date DATETIME,\n",
    "                                          order_delivered_customer_date DATETIME,\n",
    "                                          order_estimated_delivery_date DATETIME)\"\"\")\n",
    "\n",
    "insert_orders = (\n",
    "    \"INSERT INTO ORDERS(order_id, customer_id, order_status, order_purchase_timestamp, order_approved_at, order_delivered_carrier_date, order_delivered_customer_date, order_estimated_delivery_date) \"\n",
    "    \"VALUES (%s, %s, %s, %s, %s, %s, %s, %s)\"\n",
    ")\n",
    "\n",
    "populate_table(db_connection, db_cursor, insert_orders, \"/Users/efe/Downloads/data/orders.csv\")"
   ]
  },
  {
   "attachments": {},
   "cell_type": "markdown",
   "metadata": {
    "pycharm": {
     "name": "#%% md\n"
    }
   },
   "source": [
    "## Question 1 (10 pts)"
   ]
  },
  {
   "cell_type": "code",
   "execution_count": 14,
   "metadata": {
    "pycharm": {
     "name": "#%%\n"
    }
   },
   "outputs": [],
   "source": [
    "# Find the average number of weeks between products' actual delivery dates and estimated delivery dates. \n",
    "# Use order_delivered_customer_date column as actual delivery dates and \n",
    "# order_estimated_delivery_date column as estimated delivery dates.\n",
    "\n",
    "# HINT: There is a function in MySQL that makes it easy to compute the difference between two timestamps.\n",
    "# We recommend that you search for it online and use it in your answer."
   ]
  },
  {
   "cell_type": "code",
   "execution_count": 15,
   "metadata": {
    "pycharm": {
     "name": "#%%\n"
    }
   },
   "outputs": [
    {
     "name": "stdout",
     "output_type": "stream",
     "text": [
      "1.3385\n"
     ]
    }
   ],
   "source": [
    "# Solve Question 1 below\n",
    "db_cursor.execute(\"\"\"\n",
    "                    SELECT AVG(ABS(TIMESTAMPDIFF(week, order_estimated_delivery_date, order_delivered_customer_date)))\n",
    "                    FROM ps_ecommerce.ORDERS \n",
    "                    where order_status='delivered'\n",
    "                     \"\"\")\n",
    "\n",
    "week = db_cursor.fetchone()\n",
    "\n",
    "for x in week:\n",
    "    print(x)\n"
   ]
  },
  {
   "attachments": {},
   "cell_type": "markdown",
   "metadata": {
    "pycharm": {
     "name": "#%% md\n"
    }
   },
   "source": [
    "## Question 2 (15 pts)"
   ]
  },
  {
   "cell_type": "code",
   "execution_count": 16,
   "metadata": {
    "pycharm": {
     "name": "#%%\n"
    }
   },
   "outputs": [],
   "source": [
    "# Consider the ORDER_COSTS table below. Using this table and the CUSTOMERS table, find the following:\n",
    "# In which states do customers spend, on average, more than 164 on their orders? \n",
    "# Fetch those states and average order costs in those states. Results should be ordered from lowest cost to highest."
   ]
  },
  {
   "cell_type": "code",
   "execution_count": 17,
   "metadata": {
    "pycharm": {
     "name": "#%%\n"
    },
    "scrolled": true
   },
   "outputs": [],
   "source": [
    "order_costs_query = \"\"\"\n",
    "                    CREATE TABLE ORDER_COSTS AS (\n",
    "                        SELECT ORDERS.order_id, SUM(price) AS cost, ORDERS.customer_id as cid\n",
    "                        FROM ORDER_ITEMS \n",
    "                             JOIN ORDERS\n",
    "                             ON ORDER_ITEMS.order_id=ORDERS.order_id\n",
    "                        GROUP BY order_id, ORDERS.customer_id)\n",
    "                    \"\"\"\n",
    "\n",
    "db_cursor.execute(order_costs_query)"
   ]
  },
  {
   "cell_type": "code",
   "execution_count": 18,
   "metadata": {
    "pycharm": {
     "name": "#%%\n"
    }
   },
   "outputs": [
    {
     "name": "stdout",
     "output_type": "stream",
     "text": [
      "('PE', 165.95715586927687)\n",
      "('RN', 168.72618171229507)\n",
      "('MS', 173.50979253761005)\n",
      "('TO', 179.9429249493581)\n",
      "('PA', 182.85564198849806)\n",
      "('MT', 184.82068734097837)\n",
      "('AL', 202.31006200565315)\n",
      "('RO', 217.85388387291178)\n",
      "('PB', 222.1680950891404)\n",
      "('AC', 224.56719970703125)\n",
      "('RR', 279.38705960442036)\n"
     ]
    }
   ],
   "source": [
    "# Solve Question 2 below\n",
    "db_cursor.execute(\"\"\"\n",
    "                    SELECT customer_state, avg(cost) AS average\n",
    "                    FROM ORDER_COSTS JOIN CUSTOMERS\n",
    "                         ON CUSTOMERS.customer_id = ORDER_COSTS.cid\n",
    "                    GROUP BY (customer_state)\n",
    "                    HAVING 164 < (average)\n",
    "                    ORDER BY average\n",
    "                    \"\"\")\n",
    "\n",
    "result = db_cursor.fetchall()\n",
    "for x in result:\n",
    "    print(x)\n",
    "\n"
   ]
  },
  {
   "attachments": {},
   "cell_type": "markdown",
   "metadata": {
    "pycharm": {
     "name": "#%% md\n"
    }
   },
   "source": [
    "## Question 3 (15 pts)"
   ]
  },
  {
   "cell_type": "code",
   "execution_count": 19,
   "metadata": {
    "pycharm": {
     "name": "#%%\n"
    }
   },
   "outputs": [],
   "source": [
    "# Implement the following function get_month. It takes as input a month as an integer.\n",
    "# It needs to compute: In the given month, how many payments were made with each different payment type?\n",
    "# e.g.: Credit card -> 5000 payments, debit card -> 100 payments, voucher -> 300 payments, ...\n",
    "\n",
    "# HINT: One of the MySQL functions we covered in the PS makes it easy to work with months."
   ]
  },
  {
   "cell_type": "code",
   "execution_count": 20,
   "metadata": {
    "pycharm": {
     "name": "#%%\n"
    }
   },
   "outputs": [],
   "source": [
    "# Solve Question 3 below\n",
    "\n",
    "def get_month(month):\n",
    "    \n",
    "    query = \"Select payment_type as type, count(*) as adet from ORDERS natural join ORDER_PAYMENTS where MONTH(order_purchase_timestamp)= \" + month + \" GROUP BY payment_type Order By adet\"\n",
    "    db_cursor.execute(query)\n",
    "    items = db_cursor.fetchall()\n",
    "    \n",
    "    return items"
   ]
  },
  {
   "cell_type": "code",
   "execution_count": 21,
   "metadata": {
    "pycharm": {
     "name": "#%%\n"
    }
   },
   "outputs": [
    {
     "name": "stdout",
     "output_type": "stream",
     "text": [
      "[('debit_card', 82), ('voucher', 424), ('boleto', 1723), ('credit_card', 6609)]\n"
     ]
    }
   ],
   "source": [
    "# Here is a sample function call for get_month:\n",
    "print(get_month(\"2\"))"
   ]
  },
  {
   "attachments": {},
   "cell_type": "markdown",
   "metadata": {
    "pycharm": {
     "name": "#%% md\n"
    }
   },
   "source": [
    "## Question 4 (10 pts)"
   ]
  },
  {
   "cell_type": "code",
   "execution_count": 22,
   "metadata": {
    "pycharm": {
     "name": "#%%\n"
    }
   },
   "outputs": [],
   "source": [
    "# Consider the PRODUCTS table below and the ORDER_ITEMS table from earlier. \n",
    "# For each product category other than {\"moveis_decoracao\", \"beleza_saude\"}, find the minimum price that was paid for\n",
    "# an item from that category. Limit the result to retrieve only 6 rows.\n",
    "\n",
    "# The result should be like: category1 -> minprice1, category2 -> minprice2, ..."
   ]
  },
  {
   "cell_type": "code",
   "execution_count": 23,
   "metadata": {
    "pycharm": {
     "name": "#%%\n"
    }
   },
   "outputs": [],
   "source": [
    "db_cursor.execute(\"\"\"CREATE TABLE PRODUCTS (product_id VARCHAR(50) NOT NULL, \n",
    "                                            product_category_name VARCHAR(50), \n",
    "                                            product_name_lenght INTEGER, \n",
    "                                            product_description_lenght INTEGER, \n",
    "                                            product_photos_qty INTEGER,\n",
    "                                            product_weight_g INTEGER,\n",
    "                                            product_length_cm INTEGER,\n",
    "                                            product_height_cm INTEGER,\n",
    "                                            product_width_cm INTEGER)\"\"\")\n",
    "\n",
    "insert_products = (\n",
    "    \"INSERT INTO PRODUCTS(product_id, product_category_name, product_name_lenght, product_description_lenght, product_photos_qty, product_weight_g, product_length_cm,  product_height_cm, product_width_cm) \"\n",
    "    \"VALUES (%s, %s, %s, %s, %s, %s, %s, %s, %s)\"\n",
    ")\n",
    "\n",
    "populate_table(db_connection, db_cursor, insert_products, \"/Users/efe/Downloads/data/products.csv\")"
   ]
  },
  {
   "cell_type": "code",
   "execution_count": 24,
   "metadata": {
    "pycharm": {
     "name": "#%%\n"
    }
   },
   "outputs": [
    {
     "name": "stdout",
     "output_type": "stream",
     "text": [
      "(5.49, 'esporte_lazer')\n",
      "(4.4, 'utilidades_domesticas')\n",
      "(6.99, 'cama_mesa_banho')\n",
      "(3.9, 'informatica_acessorios')\n",
      "(8.99, 'relogios_presentes')\n",
      "(4.99, 'brinquedos')\n"
     ]
    }
   ],
   "source": [
    "# Solve Question 4 below\n",
    "\n",
    "db_cursor.execute(\"\"\"\n",
    "                    SELECT min(price), product_category_name \n",
    "                    from ORDER_ITEMS natural join PRODUCTS \n",
    "                    Group by product_category_name \n",
    "                    Having not (product_category_name='moveis_decoracao' or product_category_name='beleza_saude') \n",
    "                    limit 6\n",
    "                    \"\"\")\n",
    "\n",
    "result = db_cursor.fetchall()\n",
    "for x in result:\n",
    "    print(x)"
   ]
  },
  {
   "attachments": {},
   "cell_type": "markdown",
   "metadata": {
    "pycharm": {
     "name": "#%% md\n"
    }
   },
   "source": [
    "## Question 5 (10 pts)"
   ]
  },
  {
   "cell_type": "code",
   "execution_count": 25,
   "metadata": {
    "pycharm": {
     "name": "#%%\n"
    }
   },
   "outputs": [],
   "source": [
    "# Draw a pie chart using the data from the previous question.\n",
    "# Labels of your pie chart should be the product categories.\n",
    "# Contents of your pie chart (i.e., sizes of the pie slices) should be determined by the min prices."
   ]
  },
  {
   "cell_type": "code",
   "execution_count": 26,
   "metadata": {
    "pycharm": {
     "name": "#%%\n"
    }
   },
   "outputs": [
    {
     "data": {
      "image/png": "[encoded data removed]",
      "text/plain": [
       "<Figure size 432x288 with 1 Axes>"
      ]
     },
     "metadata": {},
     "output_type": "display_data"
    }
   ],
   "source": [
    "# Solve Question 5 below\n",
    "\n",
    "price, category = map(list, zip(*result))\n",
    "#print(month, order)\n",
    "\n",
    "exp = (0, 0, 0, 0.4, 0, 0)\n",
    "fig1, ax1 = plt.subplots()\n",
    "ax1.pie(price, explode=exp, labels=category, autopct='%1.0f%%', shadow=True, startangle=40)\n",
    "ax1.axis('equal') \n",
    "plt.show()"
   ]
  },
  {
   "attachments": {},
   "cell_type": "markdown",
   "metadata": {
    "pycharm": {
     "name": "#%% md\n"
    }
   },
   "source": [
    "## Question 6 (15 pts)"
   ]
  },
  {
   "cell_type": "code",
   "execution_count": 27,
   "metadata": {
    "pycharm": {
     "name": "#%%\n"
    }
   },
   "outputs": [],
   "source": [
    "# Let us define \"large products\" as those products with weight > 400 and length > 10.\n",
    "# Some orders that contain a large product can have large discrepancies between their order_delivered_carrier_date and \n",
    "# order_delivered_customer_date. \n",
    "# Let us define \"strange orders that contain large products\" as those orders which contain a large product and the \n",
    "# difference between their order_delivered_carrier_date and order_delivered_customer_date is larger than 100 days.\n",
    "\n",
    "# For all \"strange orders that contain large products\", find their order IDs and the number of days difference between \n",
    "# their order_delivered_carrier_date and order_delivered_customer_date.\n",
    "# Result should be like: \"abc21312df\" -> 132, \"dhs230kdf8\" -> 119, ...\n",
    "\n",
    "# HINT: Using the same MySQL function as Question 1 may help."
   ]
  },
  {
   "cell_type": "code",
   "execution_count": 28,
   "metadata": {
    "pycharm": {
     "name": "#%%\n"
    }
   },
   "outputs": [
    {
     "name": "stdout",
     "output_type": "stream",
     "text": [
      "('d24e8541128cea179a11a65176e0a96f', 161)\n",
      "('0f4519c5f1c541ddec9f21b3bddd533a', 161)\n",
      "('031e7d4e559a1bf08e71a419aa998d0a', 123)\n",
      "('437222e3fd1b07396f1d9ba8c15fba59', 144)\n",
      "('525e11b26fdb7f41471d289897d0f6da', 134)\n",
      "('47b40429ed8cce3aee9199792275433f', 175)\n",
      "('1b3190b2dfa9d789e1f14c05b647a14a', 188)\n",
      "('2ba1366baecad3c3536f27546d129017', 152)\n",
      "('dfe5f68118c2576143240b8d78e5940a', 153)\n",
      "('0b32bf55276b5feb681f6ed6fd670692', 121)\n",
      "('cce224811ba8fea016c049693c3e0402', 126)\n",
      "('6e82dcfb5eada6283dba34f164e636f5', 155)\n"
     ]
    }
   ],
   "source": [
    "# Solve Question 6 below\n",
    "\n",
    "db_cursor.execute(\n",
    "    \"\"\"\n",
    "    SELECT order_id, (TIMESTAMPDIFF(day, order_estimated_delivery_date, order_delivered_customer_date)) as time_passed\n",
    "    from (ORDERS natural join\n",
    "        (select order_id\n",
    "        from PRODUCTS natural join ORDER_ITEMS\n",
    "        where (product_weight_g > 400 and PRODUCTS.product_length_cm > 10))t)\n",
    "    where (TIMESTAMPDIFF(day, order_estimated_delivery_date, order_delivered_customer_date))>100\n",
    "    \"\"\")\n",
    "\n",
    "result = db_cursor.fetchall()\n",
    "for x in result:\n",
    "    print(x)"
   ]
  },
  {
   "attachments": {},
   "cell_type": "markdown",
   "metadata": {
    "pycharm": {
     "name": "#%% md\n"
    }
   },
   "source": [
    "## Question 7 (10 pts)"
   ]
  },
  {
   "cell_type": "code",
   "execution_count": 29,
   "metadata": {
    "pycharm": {
     "name": "#%%\n"
    }
   },
   "outputs": [],
   "source": [
    "# Draw a bar chart using the data from the previous question.\n",
    "# Order IDs should be on the x-axis.\n",
    "# Number of days difference should be on the y-axis.\n",
    "# (Although we are not looking for production quality figures, make sure that your plots are readable.)"
   ]
  },
  {
   "cell_type": "code",
   "execution_count": 30,
   "metadata": {},
   "outputs": [
    {
     "data": {
      "image/png": "[encoded data removed]",
      "text/plain": [
       "<Figure size 432x288 with 1 Axes>"
      ]
     },
     "metadata": {
      "needs_background": "light"
     },
     "output_type": "display_data"
    }
   ],
   "source": [
    "#Solve Question 7 below\n",
    "order_id, time_passed = map(list, zip(*result))\n",
    "fig = plt.figure() \n",
    "ax = fig.add_axes([0,0,1,1]) \n",
    "ax.bar(order_id, time_passed) \n",
    "plt.setp(ax.get_xticklabels(), rotation=30, horizontalalignment='right') \n",
    "plt.show()"
   ]
  },
  {
   "attachments": {},
   "cell_type": "markdown",
   "metadata": {
    "pycharm": {
     "name": "#%% md\n"
    }
   },
   "source": [
    "## Question 8 (15 pts)"
   ]
  },
  {
   "cell_type": "code",
   "execution_count": 31,
   "metadata": {
    "pycharm": {
     "name": "#%%\n"
    }
   },
   "outputs": [],
   "source": [
    "# Write an SQL query to find the total number of orders per week day, e.g., Monday -> 150 orders, Tuesday -> 200 orders,\n",
    "# Wednesday -> 500 orders, etc. Use the \"order_purchase_timestamp\" attribute when counting the number of orders.\n",
    "# Plot the result using a bar chart (days of week on x-axis, number of orders on y-axis). \n",
    "\n",
    "# HINT: Check out the \"WEEKDAY\" function of MySQL. "
   ]
  },
  {
   "cell_type": "code",
   "execution_count": 32,
   "metadata": {
    "pycharm": {
     "name": "#%%\n"
    }
   },
   "outputs": [
    {
     "name": "stdout",
     "output_type": "stream",
     "text": [
      "(16196, 'Monday')\n",
      "(15963, 'Tuesday')\n",
      "(15552, 'Wednesday')\n",
      "(10887, 'Saturday')\n",
      "(11960, 'Sunday')\n",
      "(14761, 'Thursday')\n",
      "(14122, 'Friday')\n"
     ]
    },
    {
     "data": {
      "image/png": "[encoded data removed]",
      "text/plain": [
       "<Figure size 432x288 with 1 Axes>"
      ]
     },
     "metadata": {
      "needs_background": "light"
     },
     "output_type": "display_data"
    }
   ],
   "source": [
    "# Solve Question 8 below\n",
    "db_cursor.execute(\n",
    "    \"\"\"\n",
    "    SELECT Count(*) as count, DAYNAME(order_purchase_timestamp) as days\n",
    "    FROM ORDERS\n",
    "    Group by days\n",
    "    \"\"\")\n",
    "\n",
    "result = db_cursor.fetchall()\n",
    "for x in result:\n",
    "    print(x)\n",
    "    \n",
    "count, day = map(list, zip(*result))\n",
    "fig = plt.figure() \n",
    "ax = fig.add_axes([0,0,1,1]) \n",
    "ax.bar(day,count) \n",
    "plt.setp(ax.get_xticklabels(), rotation=30, horizontalalignment='right') \n",
    "plt.show()"
   ]
  },
  {
   "cell_type": "code",
   "execution_count": 33,
   "metadata": {
    "pycharm": {
     "name": "#%%\n"
    }
   },
   "outputs": [],
   "source": [
    "db_cursor.close()\n",
    "db_connection.close()"
   ]
  }
 ],
 "metadata": {
  "kernelspec": {
   "display_name": "Python 3 (ipykernel)",
   "language": "python",
   "name": "python3"
  },
  "language_info": {
   "codemirror_mode": {
    "name": "ipython",
    "version": 3
   },
   "file_extension": ".py",
   "mimetype": "text/x-python",
   "name": "python",
   "nbconvert_exporter": "python",
   "pygments_lexer": "ipython3",
   "version": "3.8.9"
  }
 },
 "nbformat": 4,
 "nbformat_minor": 4
}
